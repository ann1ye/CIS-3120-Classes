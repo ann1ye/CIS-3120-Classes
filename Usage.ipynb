{
 "cells": [
  {
   "cell_type": "code",
   "execution_count": 1,
   "id": "6b88b4bc-a5c4-436d-9eed-8e95600f6d53",
   "metadata": {
    "editable": true,
    "slideshow": {
     "slide_type": ""
    },
    "tags": []
   },
   "outputs": [],
   "source": [
    "from Animal import Animal"
   ]
  },
  {
   "cell_type": "code",
   "execution_count": 2,
   "id": "738a52e3-faf1-4f92-8835-fed5b5e36dfe",
   "metadata": {
    "editable": true,
    "slideshow": {
     "slide_type": ""
    },
    "tags": []
   },
   "outputs": [
    {
     "name": "stdout",
     "output_type": "stream",
     "text": [
      "hello, I am Samantha\n",
      "I am a giant panda\n",
      "hello, I am girl\n",
      "As a giant panda I live in mountains\n",
      "We giant panda are mammal\n",
      "I eat bamboo\n",
      "I am 3 years old\n"
     ]
    }
   ],
   "source": [
    "x = Animal(\"Samantha\", \"giant panda\", \"girl\", \"bamboo\", \"mountains\", \"mammal\", \"3\")\n",
    "x.name()\n",
    "x.animal()\n",
    "x.gender()\n",
    "x.habitat()\n",
    "x.classes()\n",
    "x.food()\n",
    "x.age()\n"
   ]
  },
  {
   "cell_type": "code",
   "execution_count": null,
   "id": "6883264e",
   "metadata": {},
   "outputs": [],
   "source": []
  }
 ],
 "metadata": {
  "kernelspec": {
   "display_name": "Python 3",
   "language": "python",
   "name": "python3"
  },
  "language_info": {
   "codemirror_mode": {
    "name": "ipython",
    "version": 3
   },
   "file_extension": ".py",
   "mimetype": "text/x-python",
   "name": "python",
   "nbconvert_exporter": "python",
   "pygments_lexer": "ipython3",
   "version": "3.13.1"
  }
 },
 "nbformat": 4,
 "nbformat_minor": 5
}
